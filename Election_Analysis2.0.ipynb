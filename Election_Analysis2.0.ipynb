{
 "cells": [
  {
   "cell_type": "code",
   "execution_count": 1,
   "id": "5e955b8a",
   "metadata": {},
   "outputs": [],
   "source": [
    "import os\n",
    "import csv\n",
    "import pandas as pd"
   ]
  },
  {
   "cell_type": "code",
   "execution_count": 2,
   "id": "e498b19b",
   "metadata": {},
   "outputs": [],
   "source": [
    "# Add a variable to load a file from a path.\n",
    "file_to_load = os.path.join(\"Resources\", \"election_results.csv\")"
   ]
  },
  {
   "cell_type": "code",
   "execution_count": 3,
   "id": "77de865d",
   "metadata": {
    "scrolled": true
   },
   "outputs": [
    {
     "data": {
      "text/html": [
       "<div>\n",
       "<style scoped>\n",
       "    .dataframe tbody tr th:only-of-type {\n",
       "        vertical-align: middle;\n",
       "    }\n",
       "\n",
       "    .dataframe tbody tr th {\n",
       "        vertical-align: top;\n",
       "    }\n",
       "\n",
       "    .dataframe thead th {\n",
       "        text-align: right;\n",
       "    }\n",
       "</style>\n",
       "<table border=\"1\" class=\"dataframe\">\n",
       "  <thead>\n",
       "    <tr style=\"text-align: right;\">\n",
       "      <th></th>\n",
       "      <th>Ballot ID</th>\n",
       "      <th>County</th>\n",
       "      <th>Candidate</th>\n",
       "    </tr>\n",
       "  </thead>\n",
       "  <tbody>\n",
       "    <tr>\n",
       "      <th>0</th>\n",
       "      <td>1323913</td>\n",
       "      <td>Jefferson</td>\n",
       "      <td>Charles Casper Stockham</td>\n",
       "    </tr>\n",
       "    <tr>\n",
       "      <th>1</th>\n",
       "      <td>1005842</td>\n",
       "      <td>Jefferson</td>\n",
       "      <td>Charles Casper Stockham</td>\n",
       "    </tr>\n",
       "    <tr>\n",
       "      <th>2</th>\n",
       "      <td>1880345</td>\n",
       "      <td>Jefferson</td>\n",
       "      <td>Charles Casper Stockham</td>\n",
       "    </tr>\n",
       "    <tr>\n",
       "      <th>3</th>\n",
       "      <td>1600337</td>\n",
       "      <td>Jefferson</td>\n",
       "      <td>Charles Casper Stockham</td>\n",
       "    </tr>\n",
       "    <tr>\n",
       "      <th>4</th>\n",
       "      <td>1835994</td>\n",
       "      <td>Jefferson</td>\n",
       "      <td>Charles Casper Stockham</td>\n",
       "    </tr>\n",
       "    <tr>\n",
       "      <th>...</th>\n",
       "      <td>...</td>\n",
       "      <td>...</td>\n",
       "      <td>...</td>\n",
       "    </tr>\n",
       "    <tr>\n",
       "      <th>369706</th>\n",
       "      <td>4714953</td>\n",
       "      <td>Arapahoe</td>\n",
       "      <td>Raymon Anthony Doane</td>\n",
       "    </tr>\n",
       "    <tr>\n",
       "      <th>369707</th>\n",
       "      <td>4497542</td>\n",
       "      <td>Arapahoe</td>\n",
       "      <td>Raymon Anthony Doane</td>\n",
       "    </tr>\n",
       "    <tr>\n",
       "      <th>369708</th>\n",
       "      <td>4085849</td>\n",
       "      <td>Arapahoe</td>\n",
       "      <td>Raymon Anthony Doane</td>\n",
       "    </tr>\n",
       "    <tr>\n",
       "      <th>369709</th>\n",
       "      <td>4592018</td>\n",
       "      <td>Arapahoe</td>\n",
       "      <td>Raymon Anthony Doane</td>\n",
       "    </tr>\n",
       "    <tr>\n",
       "      <th>369710</th>\n",
       "      <td>4660518</td>\n",
       "      <td>Arapahoe</td>\n",
       "      <td>Raymon Anthony Doane</td>\n",
       "    </tr>\n",
       "  </tbody>\n",
       "</table>\n",
       "<p>369711 rows × 3 columns</p>\n",
       "</div>"
      ],
      "text/plain": [
       "        Ballot ID     County                Candidate\n",
       "0         1323913  Jefferson  Charles Casper Stockham\n",
       "1         1005842  Jefferson  Charles Casper Stockham\n",
       "2         1880345  Jefferson  Charles Casper Stockham\n",
       "3         1600337  Jefferson  Charles Casper Stockham\n",
       "4         1835994  Jefferson  Charles Casper Stockham\n",
       "...           ...        ...                      ...\n",
       "369706    4714953   Arapahoe     Raymon Anthony Doane\n",
       "369707    4497542   Arapahoe     Raymon Anthony Doane\n",
       "369708    4085849   Arapahoe     Raymon Anthony Doane\n",
       "369709    4592018   Arapahoe     Raymon Anthony Doane\n",
       "369710    4660518   Arapahoe     Raymon Anthony Doane\n",
       "\n",
       "[369711 rows x 3 columns]"
      ]
     },
     "execution_count": 3,
     "metadata": {},
     "output_type": "execute_result"
    }
   ],
   "source": [
    "# Read the csv and convert it into a list of dictionaries\n",
    "PyPoll_df = pd.read_csv(file_to_load)\n",
    "PyPoll_df"
   ]
  },
  {
   "cell_type": "code",
   "execution_count": 4,
   "id": "99902ca2",
   "metadata": {},
   "outputs": [
    {
     "data": {
      "text/html": [
       "<div>\n",
       "<style scoped>\n",
       "    .dataframe tbody tr th:only-of-type {\n",
       "        vertical-align: middle;\n",
       "    }\n",
       "\n",
       "    .dataframe tbody tr th {\n",
       "        vertical-align: top;\n",
       "    }\n",
       "\n",
       "    .dataframe thead th {\n",
       "        text-align: right;\n",
       "    }\n",
       "</style>\n",
       "<table border=\"1\" class=\"dataframe\">\n",
       "  <thead>\n",
       "    <tr style=\"text-align: right;\">\n",
       "      <th></th>\n",
       "      <th>County</th>\n",
       "      <th>Candidate</th>\n",
       "    </tr>\n",
       "    <tr>\n",
       "      <th>Ballot ID</th>\n",
       "      <th></th>\n",
       "      <th></th>\n",
       "    </tr>\n",
       "  </thead>\n",
       "  <tbody>\n",
       "    <tr>\n",
       "      <th>1323913</th>\n",
       "      <td>Jefferson</td>\n",
       "      <td>Charles Casper Stockham</td>\n",
       "    </tr>\n",
       "    <tr>\n",
       "      <th>1005842</th>\n",
       "      <td>Jefferson</td>\n",
       "      <td>Charles Casper Stockham</td>\n",
       "    </tr>\n",
       "    <tr>\n",
       "      <th>1880345</th>\n",
       "      <td>Jefferson</td>\n",
       "      <td>Charles Casper Stockham</td>\n",
       "    </tr>\n",
       "    <tr>\n",
       "      <th>1600337</th>\n",
       "      <td>Jefferson</td>\n",
       "      <td>Charles Casper Stockham</td>\n",
       "    </tr>\n",
       "    <tr>\n",
       "      <th>1835994</th>\n",
       "      <td>Jefferson</td>\n",
       "      <td>Charles Casper Stockham</td>\n",
       "    </tr>\n",
       "    <tr>\n",
       "      <th>...</th>\n",
       "      <td>...</td>\n",
       "      <td>...</td>\n",
       "    </tr>\n",
       "    <tr>\n",
       "      <th>4714953</th>\n",
       "      <td>Arapahoe</td>\n",
       "      <td>Raymon Anthony Doane</td>\n",
       "    </tr>\n",
       "    <tr>\n",
       "      <th>4497542</th>\n",
       "      <td>Arapahoe</td>\n",
       "      <td>Raymon Anthony Doane</td>\n",
       "    </tr>\n",
       "    <tr>\n",
       "      <th>4085849</th>\n",
       "      <td>Arapahoe</td>\n",
       "      <td>Raymon Anthony Doane</td>\n",
       "    </tr>\n",
       "    <tr>\n",
       "      <th>4592018</th>\n",
       "      <td>Arapahoe</td>\n",
       "      <td>Raymon Anthony Doane</td>\n",
       "    </tr>\n",
       "    <tr>\n",
       "      <th>4660518</th>\n",
       "      <td>Arapahoe</td>\n",
       "      <td>Raymon Anthony Doane</td>\n",
       "    </tr>\n",
       "  </tbody>\n",
       "</table>\n",
       "<p>369711 rows × 2 columns</p>\n",
       "</div>"
      ],
      "text/plain": [
       "              County                Candidate\n",
       "Ballot ID                                    \n",
       "1323913    Jefferson  Charles Casper Stockham\n",
       "1005842    Jefferson  Charles Casper Stockham\n",
       "1880345    Jefferson  Charles Casper Stockham\n",
       "1600337    Jefferson  Charles Casper Stockham\n",
       "1835994    Jefferson  Charles Casper Stockham\n",
       "...              ...                      ...\n",
       "4714953     Arapahoe     Raymon Anthony Doane\n",
       "4497542     Arapahoe     Raymon Anthony Doane\n",
       "4085849     Arapahoe     Raymon Anthony Doane\n",
       "4592018     Arapahoe     Raymon Anthony Doane\n",
       "4660518     Arapahoe     Raymon Anthony Doane\n",
       "\n",
       "[369711 rows x 2 columns]"
      ]
     },
     "execution_count": 4,
     "metadata": {},
     "output_type": "execute_result"
    }
   ],
   "source": [
    "# Setting the index to the Ballot ID\n",
    "PyPoll_dfnew = PyPoll_df.set_index(\"Ballot ID\")\n",
    "PyPoll_dfnew"
   ]
  },
  {
   "cell_type": "markdown",
   "id": "ca3997e2",
   "metadata": {},
   "source": [
    "# Election Audit Results"
   ]
  },
  {
   "cell_type": "markdown",
   "id": "92b5de40",
   "metadata": {},
   "source": [
    "## How many votes were cast in this congressional election?\n"
   ]
  },
  {
   "cell_type": "markdown",
   "id": "a41a937d",
   "metadata": {},
   "source": [
    "Using the **count** function in our dataframe for the **\"Candidate\"** column we can extract that information in just one line of code:"
   ]
  },
  {
   "cell_type": "code",
   "execution_count": 22,
   "id": "51b38aa1",
   "metadata": {},
   "outputs": [
    {
     "name": "stdout",
     "output_type": "stream",
     "text": [
      "Total Votes: 369,711\n"
     ]
    }
   ],
   "source": [
    "total_votes = PyPoll_dfnew[\"Candidate\"].count()\n",
    "\n",
    "print(f\"Total Votes: {total_votes:,}\")"
   ]
  },
  {
   "cell_type": "markdown",
   "id": "ecda3a6a",
   "metadata": {},
   "source": [
    "## Provide a breakdown of the number of votes and the percentage of total votes for each county in the precinct."
   ]
  },
  {
   "cell_type": "markdown",
   "id": "6cc26ce3",
   "metadata": {},
   "source": [
    "Using **groupby** function we can easily determine the number of votes for every state:"
   ]
  },
  {
   "cell_type": "code",
   "execution_count": 14,
   "id": "006f3097",
   "metadata": {
    "scrolled": true
   },
   "outputs": [
    {
     "data": {
      "text/html": [
       "<div>\n",
       "<style scoped>\n",
       "    .dataframe tbody tr th:only-of-type {\n",
       "        vertical-align: middle;\n",
       "    }\n",
       "\n",
       "    .dataframe tbody tr th {\n",
       "        vertical-align: top;\n",
       "    }\n",
       "\n",
       "    .dataframe thead th {\n",
       "        text-align: right;\n",
       "    }\n",
       "</style>\n",
       "<table border=\"1\" class=\"dataframe\">\n",
       "  <thead>\n",
       "    <tr style=\"text-align: right;\">\n",
       "      <th></th>\n",
       "      <th>Candidate</th>\n",
       "    </tr>\n",
       "    <tr>\n",
       "      <th>County</th>\n",
       "      <th></th>\n",
       "    </tr>\n",
       "  </thead>\n",
       "  <tbody>\n",
       "    <tr>\n",
       "      <th>Arapahoe</th>\n",
       "      <td>24801</td>\n",
       "    </tr>\n",
       "    <tr>\n",
       "      <th>Denver</th>\n",
       "      <td>306055</td>\n",
       "    </tr>\n",
       "    <tr>\n",
       "      <th>Jefferson</th>\n",
       "      <td>38855</td>\n",
       "    </tr>\n",
       "  </tbody>\n",
       "</table>\n",
       "</div>"
      ],
      "text/plain": [
       "           Candidate\n",
       "County              \n",
       "Arapahoe       24801\n",
       "Denver        306055\n",
       "Jefferson      38855"
      ]
     },
     "execution_count": 14,
     "metadata": {},
     "output_type": "execute_result"
    }
   ],
   "source": [
    "grouped_county_PyPoll_df = PyPoll_dfnew.groupby([\"County\"])\n",
    "\n",
    "grouped_county_PyPoll_df.count()"
   ]
  },
  {
   "cell_type": "markdown",
   "id": "3681729b",
   "metadata": {},
   "source": [
    "## Which county had the largest number of votes?"
   ]
  },
  {
   "cell_type": "markdown",
   "id": "b530b3e6",
   "metadata": {},
   "source": [
    "Now, to easily get the county with the largest number of votes, we use the function **sort_values** with a parameter of **ascending = false** to sort our values from highest to lowest:"
   ]
  },
  {
   "cell_type": "code",
   "execution_count": 15,
   "id": "66a5e165",
   "metadata": {
    "scrolled": false
   },
   "outputs": [
    {
     "data": {
      "text/html": [
       "<div>\n",
       "<style scoped>\n",
       "    .dataframe tbody tr th:only-of-type {\n",
       "        vertical-align: middle;\n",
       "    }\n",
       "\n",
       "    .dataframe tbody tr th {\n",
       "        vertical-align: top;\n",
       "    }\n",
       "\n",
       "    .dataframe thead th {\n",
       "        text-align: right;\n",
       "    }\n",
       "</style>\n",
       "<table border=\"1\" class=\"dataframe\">\n",
       "  <thead>\n",
       "    <tr style=\"text-align: right;\">\n",
       "      <th></th>\n",
       "      <th>Candidate</th>\n",
       "    </tr>\n",
       "    <tr>\n",
       "      <th>County</th>\n",
       "      <th></th>\n",
       "    </tr>\n",
       "  </thead>\n",
       "  <tbody>\n",
       "    <tr>\n",
       "      <th>Denver</th>\n",
       "      <td>306055</td>\n",
       "    </tr>\n",
       "    <tr>\n",
       "      <th>Jefferson</th>\n",
       "      <td>38855</td>\n",
       "    </tr>\n",
       "    <tr>\n",
       "      <th>Arapahoe</th>\n",
       "      <td>24801</td>\n",
       "    </tr>\n",
       "  </tbody>\n",
       "</table>\n",
       "</div>"
      ],
      "text/plain": [
       "           Candidate\n",
       "County              \n",
       "Denver        306055\n",
       "Jefferson      38855\n",
       "Arapahoe       24801"
      ]
     },
     "execution_count": 15,
     "metadata": {},
     "output_type": "execute_result"
    }
   ],
   "source": [
    "votes_counties = grouped_county_PyPoll_df.count()\n",
    "sorted_counties = votes_counties.sort_values(\"Candidate\", ascending = False)\n",
    "sorted_counties"
   ]
  },
  {
   "cell_type": "markdown",
   "id": "22d26366",
   "metadata": {},
   "source": [
    "## Provide a breakdown of the number of votes and the percentage of the total votes each candidate received."
   ]
  },
  {
   "cell_type": "markdown",
   "id": "9a72b7ef",
   "metadata": {},
   "source": [
    "As well as with the counties, we use **groupby** to get the number of votes for each candidate:"
   ]
  },
  {
   "cell_type": "code",
   "execution_count": 16,
   "id": "4cf8ee47",
   "metadata": {
    "scrolled": true
   },
   "outputs": [
    {
     "data": {
      "text/html": [
       "<div>\n",
       "<style scoped>\n",
       "    .dataframe tbody tr th:only-of-type {\n",
       "        vertical-align: middle;\n",
       "    }\n",
       "\n",
       "    .dataframe tbody tr th {\n",
       "        vertical-align: top;\n",
       "    }\n",
       "\n",
       "    .dataframe thead th {\n",
       "        text-align: right;\n",
       "    }\n",
       "</style>\n",
       "<table border=\"1\" class=\"dataframe\">\n",
       "  <thead>\n",
       "    <tr style=\"text-align: right;\">\n",
       "      <th></th>\n",
       "      <th>County</th>\n",
       "    </tr>\n",
       "    <tr>\n",
       "      <th>Candidate</th>\n",
       "      <th></th>\n",
       "    </tr>\n",
       "  </thead>\n",
       "  <tbody>\n",
       "    <tr>\n",
       "      <th>Charles Casper Stockham</th>\n",
       "      <td>85213</td>\n",
       "    </tr>\n",
       "    <tr>\n",
       "      <th>Diana DeGette</th>\n",
       "      <td>272892</td>\n",
       "    </tr>\n",
       "    <tr>\n",
       "      <th>Raymon Anthony Doane</th>\n",
       "      <td>11606</td>\n",
       "    </tr>\n",
       "  </tbody>\n",
       "</table>\n",
       "</div>"
      ],
      "text/plain": [
       "                         County\n",
       "Candidate                      \n",
       "Charles Casper Stockham   85213\n",
       "Diana DeGette            272892\n",
       "Raymon Anthony Doane      11606"
      ]
     },
     "execution_count": 16,
     "metadata": {},
     "output_type": "execute_result"
    }
   ],
   "source": [
    "grouped_candidate_PyPoll_df = PyPoll_dfnew.groupby([\"Candidate\"])\n",
    "\n",
    "grouped_candidate_PyPoll_df.count()"
   ]
  },
  {
   "cell_type": "markdown",
   "id": "039454a2",
   "metadata": {},
   "source": [
    "## Which candidate won the election, what was their vote count, and what was their percentage of the total votes?"
   ]
  },
  {
   "cell_type": "markdown",
   "id": "18b1e98a",
   "metadata": {},
   "source": [
    "Finally, to get our Winner, we are going to use the same method of **groupby** and **sort_values** to get the list from highest to lowest count of votes:"
   ]
  },
  {
   "cell_type": "code",
   "execution_count": 18,
   "id": "2d23f730",
   "metadata": {},
   "outputs": [
    {
     "data": {
      "text/html": [
       "<div>\n",
       "<style scoped>\n",
       "    .dataframe tbody tr th:only-of-type {\n",
       "        vertical-align: middle;\n",
       "    }\n",
       "\n",
       "    .dataframe tbody tr th {\n",
       "        vertical-align: top;\n",
       "    }\n",
       "\n",
       "    .dataframe thead th {\n",
       "        text-align: right;\n",
       "    }\n",
       "</style>\n",
       "<table border=\"1\" class=\"dataframe\">\n",
       "  <thead>\n",
       "    <tr style=\"text-align: right;\">\n",
       "      <th></th>\n",
       "      <th>County</th>\n",
       "    </tr>\n",
       "    <tr>\n",
       "      <th>Candidate</th>\n",
       "      <th></th>\n",
       "    </tr>\n",
       "  </thead>\n",
       "  <tbody>\n",
       "    <tr>\n",
       "      <th>Diana DeGette</th>\n",
       "      <td>272892</td>\n",
       "    </tr>\n",
       "    <tr>\n",
       "      <th>Charles Casper Stockham</th>\n",
       "      <td>85213</td>\n",
       "    </tr>\n",
       "    <tr>\n",
       "      <th>Raymon Anthony Doane</th>\n",
       "      <td>11606</td>\n",
       "    </tr>\n",
       "  </tbody>\n",
       "</table>\n",
       "</div>"
      ],
      "text/plain": [
       "                         County\n",
       "Candidate                      \n",
       "Diana DeGette            272892\n",
       "Charles Casper Stockham   85213\n",
       "Raymon Anthony Doane      11606"
      ]
     },
     "execution_count": 18,
     "metadata": {},
     "output_type": "execute_result"
    }
   ],
   "source": [
    "votes_candidates = grouped_candidate_PyPoll_df.count()\n",
    "sorted_candidates = votes_candidates.sort_values(\"County\", ascending = False)\n",
    "sorted_candidates"
   ]
  }
 ],
 "metadata": {
  "kernelspec": {
   "display_name": "Python 3 (ipykernel)",
   "language": "python",
   "name": "python3"
  },
  "language_info": {
   "codemirror_mode": {
    "name": "ipython",
    "version": 3
   },
   "file_extension": ".py",
   "mimetype": "text/x-python",
   "name": "python",
   "nbconvert_exporter": "python",
   "pygments_lexer": "ipython3",
   "version": "3.9.12"
  },
  "toc": {
   "base_numbering": 1,
   "nav_menu": {},
   "number_sections": true,
   "sideBar": true,
   "skip_h1_title": false,
   "title_cell": "Table of Contents",
   "title_sidebar": "Contents",
   "toc_cell": false,
   "toc_position": {},
   "toc_section_display": true,
   "toc_window_display": false
  }
 },
 "nbformat": 4,
 "nbformat_minor": 5
}
